{
 "cells": [
  {
   "cell_type": "code",
   "execution_count": 1,
   "metadata": {},
   "outputs": [],
   "source": [
    "import pandas as pd\n",
    "import numpy as np\n",
    "import matplotlib.pyplot as plt\n",
    "import seaborn as sns\n",
    "%matplotlib inline"
   ]
  },
  {
   "cell_type": "code",
   "execution_count": 2,
   "metadata": {},
   "outputs": [],
   "source": [
    "from matplotlib import font_manager, rc\n",
    "font_name = font_manager.FontProperties(fname = 'malgun.ttf').get_name()\n",
    "rc('font', family = font_name)"
   ]
  },
  {
   "cell_type": "markdown",
   "metadata": {},
   "source": [
    "# 원본 데이터 확인#"
   ]
  },
  {
   "cell_type": "code",
   "execution_count": 3,
   "metadata": {},
   "outputs": [],
   "source": [
    "df = pd.read_csv('AFSNT.csv', encoding = 'cp949')                    "
   ]
  },
  {
   "cell_type": "code",
   "execution_count": 4,
   "metadata": {},
   "outputs": [
    {
     "data": {
      "text/html": [
       "<div>\n",
       "<style scoped>\n",
       "    .dataframe tbody tr th:only-of-type {\n",
       "        vertical-align: middle;\n",
       "    }\n",
       "\n",
       "    .dataframe tbody tr th {\n",
       "        vertical-align: top;\n",
       "    }\n",
       "\n",
       "    .dataframe thead th {\n",
       "        text-align: right;\n",
       "    }\n",
       "</style>\n",
       "<table border=\"1\" class=\"dataframe\">\n",
       "  <thead>\n",
       "    <tr style=\"text-align: right;\">\n",
       "      <th></th>\n",
       "      <th>SDT_YY</th>\n",
       "      <th>SDT_MM</th>\n",
       "      <th>SDT_DD</th>\n",
       "      <th>SDT_DY</th>\n",
       "      <th>ARP</th>\n",
       "      <th>ODP</th>\n",
       "      <th>FLO</th>\n",
       "      <th>FLT</th>\n",
       "      <th>REG</th>\n",
       "      <th>AOD</th>\n",
       "      <th>IRR</th>\n",
       "      <th>STT</th>\n",
       "      <th>ATT</th>\n",
       "      <th>DLY</th>\n",
       "      <th>DRR</th>\n",
       "      <th>CNL</th>\n",
       "      <th>CNR</th>\n",
       "    </tr>\n",
       "  </thead>\n",
       "  <tbody>\n",
       "    <tr>\n",
       "      <th>0</th>\n",
       "      <td>2017</td>\n",
       "      <td>1</td>\n",
       "      <td>1</td>\n",
       "      <td>일</td>\n",
       "      <td>ARP3</td>\n",
       "      <td>ARP6</td>\n",
       "      <td>J</td>\n",
       "      <td>J1955</td>\n",
       "      <td>SEw3NzE4</td>\n",
       "      <td>D</td>\n",
       "      <td>N</td>\n",
       "      <td>10:05</td>\n",
       "      <td>10:32</td>\n",
       "      <td>N</td>\n",
       "      <td>NaN</td>\n",
       "      <td>N</td>\n",
       "      <td>NaN</td>\n",
       "    </tr>\n",
       "    <tr>\n",
       "      <th>1</th>\n",
       "      <td>2017</td>\n",
       "      <td>1</td>\n",
       "      <td>1</td>\n",
       "      <td>일</td>\n",
       "      <td>ARP3</td>\n",
       "      <td>ARP6</td>\n",
       "      <td>J</td>\n",
       "      <td>J1954</td>\n",
       "      <td>SEw3NzE4</td>\n",
       "      <td>A</td>\n",
       "      <td>N</td>\n",
       "      <td>9:30</td>\n",
       "      <td>9:31</td>\n",
       "      <td>N</td>\n",
       "      <td>NaN</td>\n",
       "      <td>N</td>\n",
       "      <td>NaN</td>\n",
       "    </tr>\n",
       "    <tr>\n",
       "      <th>2</th>\n",
       "      <td>2017</td>\n",
       "      <td>1</td>\n",
       "      <td>1</td>\n",
       "      <td>일</td>\n",
       "      <td>ARP3</td>\n",
       "      <td>ARP6</td>\n",
       "      <td>J</td>\n",
       "      <td>J1956</td>\n",
       "      <td>SEw3NzE4</td>\n",
       "      <td>A</td>\n",
       "      <td>N</td>\n",
       "      <td>12:45</td>\n",
       "      <td>13:03</td>\n",
       "      <td>N</td>\n",
       "      <td>NaN</td>\n",
       "      <td>N</td>\n",
       "      <td>NaN</td>\n",
       "    </tr>\n",
       "    <tr>\n",
       "      <th>3</th>\n",
       "      <td>2017</td>\n",
       "      <td>1</td>\n",
       "      <td>1</td>\n",
       "      <td>일</td>\n",
       "      <td>ARP3</td>\n",
       "      <td>ARP6</td>\n",
       "      <td>J</td>\n",
       "      <td>J1957</td>\n",
       "      <td>SEw3NzE4</td>\n",
       "      <td>D</td>\n",
       "      <td>N</td>\n",
       "      <td>13:25</td>\n",
       "      <td>14:09</td>\n",
       "      <td>Y</td>\n",
       "      <td>C02</td>\n",
       "      <td>N</td>\n",
       "      <td>NaN</td>\n",
       "    </tr>\n",
       "    <tr>\n",
       "      <th>4</th>\n",
       "      <td>2017</td>\n",
       "      <td>1</td>\n",
       "      <td>1</td>\n",
       "      <td>일</td>\n",
       "      <td>ARP3</td>\n",
       "      <td>ARP6</td>\n",
       "      <td>J</td>\n",
       "      <td>J1958</td>\n",
       "      <td>SEw3NzE4</td>\n",
       "      <td>A</td>\n",
       "      <td>N</td>\n",
       "      <td>16:10</td>\n",
       "      <td>16:31</td>\n",
       "      <td>N</td>\n",
       "      <td>NaN</td>\n",
       "      <td>N</td>\n",
       "      <td>NaN</td>\n",
       "    </tr>\n",
       "  </tbody>\n",
       "</table>\n",
       "</div>"
      ],
      "text/plain": [
       "   SDT_YY  SDT_MM  SDT_DD SDT_DY   ARP   ODP FLO    FLT       REG AOD IRR  \\\n",
       "0    2017       1       1      일  ARP3  ARP6   J  J1955  SEw3NzE4   D   N   \n",
       "1    2017       1       1      일  ARP3  ARP6   J  J1954  SEw3NzE4   A   N   \n",
       "2    2017       1       1      일  ARP3  ARP6   J  J1956  SEw3NzE4   A   N   \n",
       "3    2017       1       1      일  ARP3  ARP6   J  J1957  SEw3NzE4   D   N   \n",
       "4    2017       1       1      일  ARP3  ARP6   J  J1958  SEw3NzE4   A   N   \n",
       "\n",
       "     STT    ATT DLY  DRR CNL  CNR  \n",
       "0  10:05  10:32   N  NaN   N  NaN  \n",
       "1   9:30   9:31   N  NaN   N  NaN  \n",
       "2  12:45  13:03   N  NaN   N  NaN  \n",
       "3  13:25  14:09   Y  C02   N  NaN  \n",
       "4  16:10  16:31   N  NaN   N  NaN  "
      ]
     },
     "execution_count": 4,
     "metadata": {},
     "output_type": "execute_result"
    }
   ],
   "source": [
    "df.head()"
   ]
  },
  {
   "cell_type": "code",
   "execution_count": 5,
   "metadata": {},
   "outputs": [
    {
     "name": "stdout",
     "output_type": "stream",
     "text": [
      "<class 'pandas.core.frame.DataFrame'>\n",
      "RangeIndex: 987709 entries, 0 to 987708\n",
      "Data columns (total 17 columns):\n",
      "SDT_YY    987709 non-null int64\n",
      "SDT_MM    987709 non-null int64\n",
      "SDT_DD    987709 non-null int64\n",
      "SDT_DY    987709 non-null object\n",
      "ARP       987709 non-null object\n",
      "ODP       987709 non-null object\n",
      "FLO       987709 non-null object\n",
      "FLT       987709 non-null object\n",
      "REG       979446 non-null object\n",
      "AOD       987709 non-null object\n",
      "IRR       987709 non-null object\n",
      "STT       987709 non-null object\n",
      "ATT       987709 non-null object\n",
      "DLY       987709 non-null object\n",
      "DRR       118937 non-null object\n",
      "CNL       987709 non-null object\n",
      "CNR       8259 non-null object\n",
      "dtypes: int64(3), object(14)\n",
      "memory usage: 128.1+ MB\n"
     ]
    }
   ],
   "source": [
    "df.info()"
   ]
  },
  {
   "cell_type": "code",
   "execution_count": 6,
   "metadata": {},
   "outputs": [
    {
     "data": {
      "text/html": [
       "<div>\n",
       "<style scoped>\n",
       "    .dataframe tbody tr th:only-of-type {\n",
       "        vertical-align: middle;\n",
       "    }\n",
       "\n",
       "    .dataframe tbody tr th {\n",
       "        vertical-align: top;\n",
       "    }\n",
       "\n",
       "    .dataframe thead th {\n",
       "        text-align: right;\n",
       "    }\n",
       "</style>\n",
       "<table border=\"1\" class=\"dataframe\">\n",
       "  <thead>\n",
       "    <tr style=\"text-align: right;\">\n",
       "      <th></th>\n",
       "      <th>SDT_YY</th>\n",
       "      <th>SDT_MM</th>\n",
       "      <th>SDT_DD</th>\n",
       "      <th>SDT_DY</th>\n",
       "      <th>ARP</th>\n",
       "      <th>ODP</th>\n",
       "      <th>FLO</th>\n",
       "      <th>FLT</th>\n",
       "      <th>REG</th>\n",
       "      <th>AOD</th>\n",
       "      <th>IRR</th>\n",
       "      <th>STT</th>\n",
       "      <th>ATT</th>\n",
       "      <th>DLY</th>\n",
       "      <th>DRR</th>\n",
       "      <th>CNL</th>\n",
       "      <th>CNR</th>\n",
       "    </tr>\n",
       "  </thead>\n",
       "  <tbody>\n",
       "    <tr>\n",
       "      <th>count</th>\n",
       "      <td>987709.000000</td>\n",
       "      <td>987709.000000</td>\n",
       "      <td>987709.000000</td>\n",
       "      <td>987709</td>\n",
       "      <td>987709</td>\n",
       "      <td>987709</td>\n",
       "      <td>987709</td>\n",
       "      <td>987709</td>\n",
       "      <td>979446</td>\n",
       "      <td>987709</td>\n",
       "      <td>987709</td>\n",
       "      <td>987709</td>\n",
       "      <td>987709</td>\n",
       "      <td>987709</td>\n",
       "      <td>118937</td>\n",
       "      <td>987709</td>\n",
       "      <td>8259</td>\n",
       "    </tr>\n",
       "    <tr>\n",
       "      <th>unique</th>\n",
       "      <td>NaN</td>\n",
       "      <td>NaN</td>\n",
       "      <td>NaN</td>\n",
       "      <td>7</td>\n",
       "      <td>15</td>\n",
       "      <td>15</td>\n",
       "      <td>12</td>\n",
       "      <td>1541</td>\n",
       "      <td>363</td>\n",
       "      <td>2</td>\n",
       "      <td>2</td>\n",
       "      <td>372</td>\n",
       "      <td>1159</td>\n",
       "      <td>2</td>\n",
       "      <td>36</td>\n",
       "      <td>2</td>\n",
       "      <td>23</td>\n",
       "    </tr>\n",
       "    <tr>\n",
       "      <th>top</th>\n",
       "      <td>NaN</td>\n",
       "      <td>NaN</td>\n",
       "      <td>NaN</td>\n",
       "      <td>일</td>\n",
       "      <td>ARP3</td>\n",
       "      <td>ARP3</td>\n",
       "      <td>J</td>\n",
       "      <td>L1804</td>\n",
       "      <td>SEw3NTk0</td>\n",
       "      <td>A</td>\n",
       "      <td>N</td>\n",
       "      <td>8:00</td>\n",
       "      <td>0:00</td>\n",
       "      <td>N</td>\n",
       "      <td>C02</td>\n",
       "      <td>N</td>\n",
       "      <td>A04</td>\n",
       "    </tr>\n",
       "    <tr>\n",
       "      <th>freq</th>\n",
       "      <td>NaN</td>\n",
       "      <td>NaN</td>\n",
       "      <td>NaN</td>\n",
       "      <td>143873</td>\n",
       "      <td>393607</td>\n",
       "      <td>393429</td>\n",
       "      <td>276447</td>\n",
       "      <td>1832</td>\n",
       "      <td>15120</td>\n",
       "      <td>493992</td>\n",
       "      <td>966084</td>\n",
       "      <td>10662</td>\n",
       "      <td>8259</td>\n",
       "      <td>868772</td>\n",
       "      <td>107738</td>\n",
       "      <td>979450</td>\n",
       "      <td>1833</td>\n",
       "    </tr>\n",
       "    <tr>\n",
       "      <th>mean</th>\n",
       "      <td>2017.794231</td>\n",
       "      <td>5.956420</td>\n",
       "      <td>15.705550</td>\n",
       "      <td>NaN</td>\n",
       "      <td>NaN</td>\n",
       "      <td>NaN</td>\n",
       "      <td>NaN</td>\n",
       "      <td>NaN</td>\n",
       "      <td>NaN</td>\n",
       "      <td>NaN</td>\n",
       "      <td>NaN</td>\n",
       "      <td>NaN</td>\n",
       "      <td>NaN</td>\n",
       "      <td>NaN</td>\n",
       "      <td>NaN</td>\n",
       "      <td>NaN</td>\n",
       "      <td>NaN</td>\n",
       "    </tr>\n",
       "    <tr>\n",
       "      <th>std</th>\n",
       "      <td>0.746196</td>\n",
       "      <td>3.366872</td>\n",
       "      <td>8.788141</td>\n",
       "      <td>NaN</td>\n",
       "      <td>NaN</td>\n",
       "      <td>NaN</td>\n",
       "      <td>NaN</td>\n",
       "      <td>NaN</td>\n",
       "      <td>NaN</td>\n",
       "      <td>NaN</td>\n",
       "      <td>NaN</td>\n",
       "      <td>NaN</td>\n",
       "      <td>NaN</td>\n",
       "      <td>NaN</td>\n",
       "      <td>NaN</td>\n",
       "      <td>NaN</td>\n",
       "      <td>NaN</td>\n",
       "    </tr>\n",
       "    <tr>\n",
       "      <th>min</th>\n",
       "      <td>2017.000000</td>\n",
       "      <td>1.000000</td>\n",
       "      <td>1.000000</td>\n",
       "      <td>NaN</td>\n",
       "      <td>NaN</td>\n",
       "      <td>NaN</td>\n",
       "      <td>NaN</td>\n",
       "      <td>NaN</td>\n",
       "      <td>NaN</td>\n",
       "      <td>NaN</td>\n",
       "      <td>NaN</td>\n",
       "      <td>NaN</td>\n",
       "      <td>NaN</td>\n",
       "      <td>NaN</td>\n",
       "      <td>NaN</td>\n",
       "      <td>NaN</td>\n",
       "      <td>NaN</td>\n",
       "    </tr>\n",
       "    <tr>\n",
       "      <th>25%</th>\n",
       "      <td>2017.000000</td>\n",
       "      <td>3.000000</td>\n",
       "      <td>8.000000</td>\n",
       "      <td>NaN</td>\n",
       "      <td>NaN</td>\n",
       "      <td>NaN</td>\n",
       "      <td>NaN</td>\n",
       "      <td>NaN</td>\n",
       "      <td>NaN</td>\n",
       "      <td>NaN</td>\n",
       "      <td>NaN</td>\n",
       "      <td>NaN</td>\n",
       "      <td>NaN</td>\n",
       "      <td>NaN</td>\n",
       "      <td>NaN</td>\n",
       "      <td>NaN</td>\n",
       "      <td>NaN</td>\n",
       "    </tr>\n",
       "    <tr>\n",
       "      <th>50%</th>\n",
       "      <td>2018.000000</td>\n",
       "      <td>6.000000</td>\n",
       "      <td>16.000000</td>\n",
       "      <td>NaN</td>\n",
       "      <td>NaN</td>\n",
       "      <td>NaN</td>\n",
       "      <td>NaN</td>\n",
       "      <td>NaN</td>\n",
       "      <td>NaN</td>\n",
       "      <td>NaN</td>\n",
       "      <td>NaN</td>\n",
       "      <td>NaN</td>\n",
       "      <td>NaN</td>\n",
       "      <td>NaN</td>\n",
       "      <td>NaN</td>\n",
       "      <td>NaN</td>\n",
       "      <td>NaN</td>\n",
       "    </tr>\n",
       "    <tr>\n",
       "      <th>75%</th>\n",
       "      <td>2018.000000</td>\n",
       "      <td>9.000000</td>\n",
       "      <td>23.000000</td>\n",
       "      <td>NaN</td>\n",
       "      <td>NaN</td>\n",
       "      <td>NaN</td>\n",
       "      <td>NaN</td>\n",
       "      <td>NaN</td>\n",
       "      <td>NaN</td>\n",
       "      <td>NaN</td>\n",
       "      <td>NaN</td>\n",
       "      <td>NaN</td>\n",
       "      <td>NaN</td>\n",
       "      <td>NaN</td>\n",
       "      <td>NaN</td>\n",
       "      <td>NaN</td>\n",
       "      <td>NaN</td>\n",
       "    </tr>\n",
       "    <tr>\n",
       "      <th>max</th>\n",
       "      <td>2019.000000</td>\n",
       "      <td>12.000000</td>\n",
       "      <td>31.000000</td>\n",
       "      <td>NaN</td>\n",
       "      <td>NaN</td>\n",
       "      <td>NaN</td>\n",
       "      <td>NaN</td>\n",
       "      <td>NaN</td>\n",
       "      <td>NaN</td>\n",
       "      <td>NaN</td>\n",
       "      <td>NaN</td>\n",
       "      <td>NaN</td>\n",
       "      <td>NaN</td>\n",
       "      <td>NaN</td>\n",
       "      <td>NaN</td>\n",
       "      <td>NaN</td>\n",
       "      <td>NaN</td>\n",
       "    </tr>\n",
       "  </tbody>\n",
       "</table>\n",
       "</div>"
      ],
      "text/plain": [
       "               SDT_YY         SDT_MM         SDT_DD  SDT_DY     ARP     ODP  \\\n",
       "count   987709.000000  987709.000000  987709.000000  987709  987709  987709   \n",
       "unique            NaN            NaN            NaN       7      15      15   \n",
       "top               NaN            NaN            NaN       일    ARP3    ARP3   \n",
       "freq              NaN            NaN            NaN  143873  393607  393429   \n",
       "mean      2017.794231       5.956420      15.705550     NaN     NaN     NaN   \n",
       "std          0.746196       3.366872       8.788141     NaN     NaN     NaN   \n",
       "min       2017.000000       1.000000       1.000000     NaN     NaN     NaN   \n",
       "25%       2017.000000       3.000000       8.000000     NaN     NaN     NaN   \n",
       "50%       2018.000000       6.000000      16.000000     NaN     NaN     NaN   \n",
       "75%       2018.000000       9.000000      23.000000     NaN     NaN     NaN   \n",
       "max       2019.000000      12.000000      31.000000     NaN     NaN     NaN   \n",
       "\n",
       "           FLO     FLT       REG     AOD     IRR     STT     ATT     DLY  \\\n",
       "count   987709  987709    979446  987709  987709  987709  987709  987709   \n",
       "unique      12    1541       363       2       2     372    1159       2   \n",
       "top          J   L1804  SEw3NTk0       A       N    8:00    0:00       N   \n",
       "freq    276447    1832     15120  493992  966084   10662    8259  868772   \n",
       "mean       NaN     NaN       NaN     NaN     NaN     NaN     NaN     NaN   \n",
       "std        NaN     NaN       NaN     NaN     NaN     NaN     NaN     NaN   \n",
       "min        NaN     NaN       NaN     NaN     NaN     NaN     NaN     NaN   \n",
       "25%        NaN     NaN       NaN     NaN     NaN     NaN     NaN     NaN   \n",
       "50%        NaN     NaN       NaN     NaN     NaN     NaN     NaN     NaN   \n",
       "75%        NaN     NaN       NaN     NaN     NaN     NaN     NaN     NaN   \n",
       "max        NaN     NaN       NaN     NaN     NaN     NaN     NaN     NaN   \n",
       "\n",
       "           DRR     CNL   CNR  \n",
       "count   118937  987709  8259  \n",
       "unique      36       2    23  \n",
       "top        C02       N   A04  \n",
       "freq    107738  979450  1833  \n",
       "mean       NaN     NaN   NaN  \n",
       "std        NaN     NaN   NaN  \n",
       "min        NaN     NaN   NaN  \n",
       "25%        NaN     NaN   NaN  \n",
       "50%        NaN     NaN   NaN  \n",
       "75%        NaN     NaN   NaN  \n",
       "max        NaN     NaN   NaN  "
      ]
     },
     "execution_count": 6,
     "metadata": {},
     "output_type": "execute_result"
    }
   ],
   "source": [
    "df.describe(include = 'all')"
   ]
  },
  {
   "cell_type": "code",
   "execution_count": 7,
   "metadata": {},
   "outputs": [
    {
     "data": {
      "text/plain": [
       "SDT_YY         0\n",
       "SDT_MM         0\n",
       "SDT_DD         0\n",
       "SDT_DY         0\n",
       "ARP            0\n",
       "ODP            0\n",
       "FLO            0\n",
       "FLT            0\n",
       "REG         8263\n",
       "AOD            0\n",
       "IRR            0\n",
       "STT            0\n",
       "ATT            0\n",
       "DLY            0\n",
       "DRR       868772\n",
       "CNL            0\n",
       "CNR       979450\n",
       "dtype: int64"
      ]
     },
     "execution_count": 7,
     "metadata": {},
     "output_type": "execute_result"
    }
   ],
   "source": [
    "df.isnull().sum()"
   ]
  },
  {
   "cell_type": "markdown",
   "metadata": {},
   "source": [
    "# 지연예측에 불필요한 데이터, 이상데이터 제거"
   ]
  },
  {
   "cell_type": "code",
   "execution_count": 8,
   "metadata": {},
   "outputs": [
    {
     "data": {
      "text/plain": [
       "array(['N', 'Y'], dtype=object)"
      ]
     },
     "execution_count": 8,
     "metadata": {},
     "output_type": "execute_result"
    }
   ],
   "source": [
    "#부정기편 확인\n",
    "df['IRR'].unique()"
   ]
  },
  {
   "cell_type": "code",
   "execution_count": 9,
   "metadata": {},
   "outputs": [],
   "source": [
    "#부정기편 지우기(부정기편 = N인 행들만 남기고 IRR컬럼 지우기)\n",
    "df = df[df['IRR'] == 'N']\n",
    "df.drop(['IRR'], axis = 1, inplace = True)"
   ]
  },
  {
   "cell_type": "code",
   "execution_count": 10,
   "metadata": {},
   "outputs": [
    {
     "data": {
      "text/plain": [
       "array(['N', 'Y'], dtype=object)"
      ]
     },
     "execution_count": 10,
     "metadata": {},
     "output_type": "execute_result"
    }
   ],
   "source": [
    "#결항 확인\n",
    "df['CNL'].unique()"
   ]
  },
  {
   "cell_type": "code",
   "execution_count": 11,
   "metadata": {},
   "outputs": [],
   "source": [
    "#결항 데이터 지우기(결항 = N인 행들만 남기고 CNL,CNR 컬럼 지우기)\n",
    "df = df[df['CNL'] == 'N']\n",
    "df.drop(['CNL','CNR'], axis = 1, inplace = True)"
   ]
  },
  {
   "cell_type": "code",
   "execution_count": 12,
   "metadata": {},
   "outputs": [],
   "source": [
    "#REG(항공기 번호 nan값 확인후 행 삭제)\n",
    "df['REG'].fillna('NULL', inplace = True)\n",
    "df = df[df['REG'] != 'NULL']"
   ]
  },
  {
   "cell_type": "code",
   "execution_count": 13,
   "metadata": {},
   "outputs": [
    {
     "data": {
      "text/plain": [
       " 0     727358\n",
       " 1     179520\n",
       "-1      40565\n",
       " 2       7898\n",
       " 3       1898\n",
       " 4        589\n",
       " 5        187\n",
       " 6         68\n",
       "-2         14\n",
       " 7         14\n",
       "-9         11\n",
       " 8          4\n",
       "-12         3\n",
       "-15         3\n",
       "-20         3\n",
       "-21         3\n",
       " 11         3\n",
       "-3          2\n",
       " 10         1\n",
       " 9          1\n",
       "-10         1\n",
       "-22         1\n",
       "-18         1\n",
       "-13         1\n",
       "-23         1\n",
       "Name: GAP_HOUR, dtype: int64"
      ]
     },
     "execution_count": 13,
     "metadata": {},
     "output_type": "execute_result"
    }
   ],
   "source": [
    "#계획출발시간 및 실제 출발 시간 (int)도출\n",
    "df['STT_HOUR'] = df['STT'].str[0:2]\n",
    "df['STT_HOUR'] = df['STT_HOUR'].str.replace(':','')\n",
    "df['STT_HOUR'] = df['STT_HOUR'].astype(int)\n",
    "df['ATT_HOUR'] = df['ATT'].str[0:2]\n",
    "df['ATT_HOUR'] = df['ATT_HOUR'].str.replace(':','')\n",
    "df['ATT_HOUR'] = df['ATT_HOUR'].astype(int)\n",
    "#실제 출발시간과 예정출발시간 차이 구한후 시간차 확인\n",
    "df['GAP_HOUR'] = df['ATT_HOUR'] - df['STT_HOUR']\n",
    "df['GAP_HOUR'].value_counts()"
   ]
  },
  {
   "cell_type": "code",
   "execution_count": 14,
   "metadata": {},
   "outputs": [],
   "source": [
    "#7시간 이상 지연된 경우는 소수데이터이므로 과적합의 원인이 될 수 있으므로 행 삭제\n",
    "df = df[df['GAP_HOUR'] < 7]\n",
    "#10분이상 조기출발은 페리호(불필요데이터)이므로 -2이하 행 삭제\n",
    "df = df[df['GAP_HOUR'] > -2]"
   ]
  },
  {
   "cell_type": "code",
   "execution_count": 15,
   "metadata": {},
   "outputs": [
    {
     "data": {
      "text/plain": [
       " 0    727358\n",
       " 1    179520\n",
       "-1     40565\n",
       " 2      7898\n",
       " 3      1898\n",
       " 4       589\n",
       " 5       187\n",
       " 6        68\n",
       "Name: GAP_HOUR, dtype: int64"
      ]
     },
     "execution_count": 15,
     "metadata": {},
     "output_type": "execute_result"
    }
   ],
   "source": [
    "df['GAP_HOUR'].value_counts()"
   ]
  },
  {
   "cell_type": "code",
   "execution_count": 16,
   "metadata": {},
   "outputs": [],
   "source": [
    "#시간차가 -1 인경우 10분조기출발일 경우는 정상 조기출발이므로 남겨야 한다.\n",
    "df['STT_MINUTE'] = df['STT'].str[-2:]\n",
    "df['STT_MINUTE'] = df['STT_MINUTE'].astype(int)\n",
    "df['ATT_MINUTE'] = df['ATT'].str[-2:]\n",
    "df['ATT_MINUTE'] = df['ATT_MINUTE'].astype(int)\n",
    "#실제 출발시간과 예정출발시간 차이 구한후 시간차가 -1인것 중 10분이상조기출발 삭제\n",
    "df['GAP_MINUTE'] = df['ATT_MINUTE'] - df['STT_MINUTE']\n",
    "df_tem1 = df[df['GAP_HOUR'] != -1] #시차가 -1이 아닌것(살릴것)\n",
    "df_tem2 = df[df['GAP_HOUR'] == -1] #시차가 -1인것 (검사할것)\n",
    "df_tem2_tem = df_tem2[df_tem2['GAP_MINUTE'] >= 50] #시차가 -1인것중 10분내의 조기출발인것만 살리기\n",
    "df = pd.concat([df_tem1,df_tem2_tem]) #살릴데이터 합치기"
   ]
  },
  {
   "cell_type": "code",
   "execution_count": 17,
   "metadata": {},
   "outputs": [],
   "source": [
    "#예측에 필요한 STT_HOUR를 제외한 컬럼 제거\n",
    "df.drop(['ATT_HOUR','GAP_HOUR','STT_MINUTE','ATT_MINUTE','GAP_MINUTE'],axis = 1,inplace = True)"
   ]
  },
  {
   "cell_type": "code",
   "execution_count": 18,
   "metadata": {
    "scrolled": true
   },
   "outputs": [
    {
     "data": {
      "image/png": "[encoded data removed]",
      "text/plain": [
       "<Figure size 432x288 with 1 Axes>"
      ]
     },
     "metadata": {
      "needs_background": "light"
     },
     "output_type": "display_data"
    }
   ],
   "source": [
    "#출발시간에 따른 지연율 확인(소수의 심야시간의 압도적으로 높은 지연율) - 과적합 피하기 위해 삭제\n",
    "df_Y = df[df['DLY'] == 'Y']\n",
    "YES = df_Y.groupby('STT_HOUR').count()\n",
    "counts = pd.value_counts(df['STT_HOUR'].values, sort = False)\n",
    "per = YES['SDT_YY']/counts\n",
    "df_per = pd.DataFrame(data = per, columns = ['per'])\n",
    "\n",
    "fig = plt.figure()\n",
    "ax = plt.subplot(1, 1, 1)\n",
    "plt.title('HOUR')\n",
    "ax.plot(df_per['per'])\n",
    "\n",
    "\n",
    "for label in ax.xaxis.get_ticklabels() :\n",
    "    label.set_rotation(45)"
   ]
  },
  {
   "cell_type": "code",
   "execution_count": 19,
   "metadata": {},
   "outputs": [
    {
     "data": {
      "text/plain": [
       "9     68074\n",
       "19    67898\n",
       "17    67288\n",
       "18    67020\n",
       "16    65002\n",
       "14    62881\n",
       "15    62823\n",
       "11    62696\n",
       "10    62122\n",
       "8     61186\n",
       "13    58253\n",
       "20    58117\n",
       "12    57329\n",
       "7     46689\n",
       "21    38041\n",
       "6     18655\n",
       "22    16192\n",
       "0        15\n",
       "23        7\n",
       "1         3\n",
       "Name: STT_HOUR, dtype: int64"
      ]
     },
     "execution_count": 19,
     "metadata": {},
     "output_type": "execute_result"
    }
   ],
   "source": [
    "#23시 0시 1시의 소수 데이터 삭제\n",
    "df['STT_HOUR'].value_counts()"
   ]
  },
  {
   "cell_type": "code",
   "execution_count": 20,
   "metadata": {},
   "outputs": [],
   "source": [
    "df = df[df['STT_HOUR'] != 0]\n",
    "df = df[df['STT_HOUR'] != 1]\n",
    "df = df[df['STT_HOUR'] != 23]"
   ]
  },
  {
   "cell_type": "code",
   "execution_count": 21,
   "metadata": {},
   "outputs": [],
   "source": [
    "#FLT 끝이 F 이면 회항 및 대체편 이므로 제거\n",
    "df['-1'] = df['FLT'].str[-1]"
   ]
  },
  {
   "cell_type": "code",
   "execution_count": 22,
   "metadata": {},
   "outputs": [],
   "source": [
    "df = df[df['-1'] !='F']\n",
    "del df['-1']"
   ]
  },
  {
   "cell_type": "markdown",
   "metadata": {},
   "source": [
    "# ARP1 ~ ARP15 해당 국내공항 찾기"
   ]
  },
  {
   "cell_type": "code",
   "execution_count": 23,
   "metadata": {},
   "outputs": [
    {
     "data": {
      "text/html": [
       "<div>\n",
       "<style scoped>\n",
       "    .dataframe tbody tr th:only-of-type {\n",
       "        vertical-align: middle;\n",
       "    }\n",
       "\n",
       "    .dataframe tbody tr th {\n",
       "        vertical-align: top;\n",
       "    }\n",
       "\n",
       "    .dataframe thead tr th {\n",
       "        text-align: left;\n",
       "    }\n",
       "\n",
       "    .dataframe thead tr:last-of-type th {\n",
       "        text-align: right;\n",
       "    }\n",
       "</style>\n",
       "<table border=\"1\" class=\"dataframe\">\n",
       "  <thead>\n",
       "    <tr>\n",
       "      <th></th>\n",
       "      <th colspan=\"15\" halign=\"left\">number</th>\n",
       "    </tr>\n",
       "    <tr>\n",
       "      <th>ODP</th>\n",
       "      <th>ARP1</th>\n",
       "      <th>ARP11</th>\n",
       "      <th>ARP12</th>\n",
       "      <th>ARP13</th>\n",
       "      <th>ARP14</th>\n",
       "      <th>ARP15</th>\n",
       "      <th>ARP2</th>\n",
       "      <th>ARP3</th>\n",
       "      <th>ARP4</th>\n",
       "      <th>ARP5</th>\n",
       "      <th>ARP6</th>\n",
       "      <th>ARP7</th>\n",
       "      <th>ARP8</th>\n",
       "      <th>ARP9</th>\n",
       "      <th>All</th>\n",
       "    </tr>\n",
       "    <tr>\n",
       "      <th>ARP</th>\n",
       "      <th></th>\n",
       "      <th></th>\n",
       "      <th></th>\n",
       "      <th></th>\n",
       "      <th></th>\n",
       "      <th></th>\n",
       "      <th></th>\n",
       "      <th></th>\n",
       "      <th></th>\n",
       "      <th></th>\n",
       "      <th></th>\n",
       "      <th></th>\n",
       "      <th></th>\n",
       "      <th></th>\n",
       "      <th></th>\n",
       "    </tr>\n",
       "  </thead>\n",
       "  <tbody>\n",
       "    <tr>\n",
       "      <th>ARP1</th>\n",
       "      <td>NaN</td>\n",
       "      <td>1707.0</td>\n",
       "      <td>1768.0</td>\n",
       "      <td>NaN</td>\n",
       "      <td>NaN</td>\n",
       "      <td>NaN</td>\n",
       "      <td>25040.0</td>\n",
       "      <td>109424.0</td>\n",
       "      <td>392.0</td>\n",
       "      <td>6013.0</td>\n",
       "      <td>NaN</td>\n",
       "      <td>NaN</td>\n",
       "      <td>1911.0</td>\n",
       "      <td>3733.0</td>\n",
       "      <td>149988</td>\n",
       "    </tr>\n",
       "    <tr>\n",
       "      <th>ARP11</th>\n",
       "      <td>1703.0</td>\n",
       "      <td>NaN</td>\n",
       "      <td>NaN</td>\n",
       "      <td>NaN</td>\n",
       "      <td>NaN</td>\n",
       "      <td>NaN</td>\n",
       "      <td>NaN</td>\n",
       "      <td>NaN</td>\n",
       "      <td>NaN</td>\n",
       "      <td>NaN</td>\n",
       "      <td>NaN</td>\n",
       "      <td>NaN</td>\n",
       "      <td>NaN</td>\n",
       "      <td>NaN</td>\n",
       "      <td>1703</td>\n",
       "    </tr>\n",
       "    <tr>\n",
       "      <th>ARP12</th>\n",
       "      <td>1766.0</td>\n",
       "      <td>NaN</td>\n",
       "      <td>NaN</td>\n",
       "      <td>NaN</td>\n",
       "      <td>NaN</td>\n",
       "      <td>NaN</td>\n",
       "      <td>NaN</td>\n",
       "      <td>602.0</td>\n",
       "      <td>NaN</td>\n",
       "      <td>NaN</td>\n",
       "      <td>NaN</td>\n",
       "      <td>NaN</td>\n",
       "      <td>NaN</td>\n",
       "      <td>NaN</td>\n",
       "      <td>2368</td>\n",
       "    </tr>\n",
       "    <tr>\n",
       "      <th>ARP13</th>\n",
       "      <td>NaN</td>\n",
       "      <td>NaN</td>\n",
       "      <td>NaN</td>\n",
       "      <td>NaN</td>\n",
       "      <td>NaN</td>\n",
       "      <td>NaN</td>\n",
       "      <td>NaN</td>\n",
       "      <td>2049.0</td>\n",
       "      <td>NaN</td>\n",
       "      <td>NaN</td>\n",
       "      <td>NaN</td>\n",
       "      <td>NaN</td>\n",
       "      <td>NaN</td>\n",
       "      <td>NaN</td>\n",
       "      <td>2049</td>\n",
       "    </tr>\n",
       "    <tr>\n",
       "      <th>ARP14</th>\n",
       "      <td>NaN</td>\n",
       "      <td>NaN</td>\n",
       "      <td>NaN</td>\n",
       "      <td>NaN</td>\n",
       "      <td>NaN</td>\n",
       "      <td>NaN</td>\n",
       "      <td>NaN</td>\n",
       "      <td>910.0</td>\n",
       "      <td>NaN</td>\n",
       "      <td>NaN</td>\n",
       "      <td>NaN</td>\n",
       "      <td>NaN</td>\n",
       "      <td>NaN</td>\n",
       "      <td>NaN</td>\n",
       "      <td>910</td>\n",
       "    </tr>\n",
       "    <tr>\n",
       "      <th>ARP15</th>\n",
       "      <td>NaN</td>\n",
       "      <td>NaN</td>\n",
       "      <td>NaN</td>\n",
       "      <td>NaN</td>\n",
       "      <td>NaN</td>\n",
       "      <td>NaN</td>\n",
       "      <td>4909.0</td>\n",
       "      <td>NaN</td>\n",
       "      <td>1750.0</td>\n",
       "      <td>NaN</td>\n",
       "      <td>NaN</td>\n",
       "      <td>NaN</td>\n",
       "      <td>NaN</td>\n",
       "      <td>NaN</td>\n",
       "      <td>6659</td>\n",
       "    </tr>\n",
       "    <tr>\n",
       "      <th>ARP2</th>\n",
       "      <td>25955.0</td>\n",
       "      <td>NaN</td>\n",
       "      <td>NaN</td>\n",
       "      <td>NaN</td>\n",
       "      <td>NaN</td>\n",
       "      <td>4907.0</td>\n",
       "      <td>NaN</td>\n",
       "      <td>28158.0</td>\n",
       "      <td>NaN</td>\n",
       "      <td>NaN</td>\n",
       "      <td>NaN</td>\n",
       "      <td>NaN</td>\n",
       "      <td>NaN</td>\n",
       "      <td>NaN</td>\n",
       "      <td>59020</td>\n",
       "    </tr>\n",
       "    <tr>\n",
       "      <th>ARP3</th>\n",
       "      <td>108180.0</td>\n",
       "      <td>NaN</td>\n",
       "      <td>603.0</td>\n",
       "      <td>2052.0</td>\n",
       "      <td>910.0</td>\n",
       "      <td>NaN</td>\n",
       "      <td>29070.0</td>\n",
       "      <td>NaN</td>\n",
       "      <td>13933.0</td>\n",
       "      <td>1708.0</td>\n",
       "      <td>16692.0</td>\n",
       "      <td>1504.0</td>\n",
       "      <td>14495.0</td>\n",
       "      <td>2515.0</td>\n",
       "      <td>191662</td>\n",
       "    </tr>\n",
       "    <tr>\n",
       "      <th>ARP4</th>\n",
       "      <td>396.0</td>\n",
       "      <td>NaN</td>\n",
       "      <td>NaN</td>\n",
       "      <td>NaN</td>\n",
       "      <td>NaN</td>\n",
       "      <td>1745.0</td>\n",
       "      <td>NaN</td>\n",
       "      <td>13916.0</td>\n",
       "      <td>NaN</td>\n",
       "      <td>NaN</td>\n",
       "      <td>NaN</td>\n",
       "      <td>NaN</td>\n",
       "      <td>NaN</td>\n",
       "      <td>NaN</td>\n",
       "      <td>16057</td>\n",
       "    </tr>\n",
       "    <tr>\n",
       "      <th>ARP5</th>\n",
       "      <td>6010.0</td>\n",
       "      <td>NaN</td>\n",
       "      <td>NaN</td>\n",
       "      <td>NaN</td>\n",
       "      <td>NaN</td>\n",
       "      <td>NaN</td>\n",
       "      <td>NaN</td>\n",
       "      <td>1608.0</td>\n",
       "      <td>NaN</td>\n",
       "      <td>NaN</td>\n",
       "      <td>NaN</td>\n",
       "      <td>NaN</td>\n",
       "      <td>NaN</td>\n",
       "      <td>NaN</td>\n",
       "      <td>7618</td>\n",
       "    </tr>\n",
       "    <tr>\n",
       "      <th>ARP6</th>\n",
       "      <td>NaN</td>\n",
       "      <td>NaN</td>\n",
       "      <td>NaN</td>\n",
       "      <td>NaN</td>\n",
       "      <td>NaN</td>\n",
       "      <td>NaN</td>\n",
       "      <td>NaN</td>\n",
       "      <td>16706.0</td>\n",
       "      <td>NaN</td>\n",
       "      <td>NaN</td>\n",
       "      <td>NaN</td>\n",
       "      <td>NaN</td>\n",
       "      <td>NaN</td>\n",
       "      <td>NaN</td>\n",
       "      <td>16706</td>\n",
       "    </tr>\n",
       "    <tr>\n",
       "      <th>ARP7</th>\n",
       "      <td>NaN</td>\n",
       "      <td>NaN</td>\n",
       "      <td>NaN</td>\n",
       "      <td>NaN</td>\n",
       "      <td>NaN</td>\n",
       "      <td>NaN</td>\n",
       "      <td>NaN</td>\n",
       "      <td>1508.0</td>\n",
       "      <td>NaN</td>\n",
       "      <td>NaN</td>\n",
       "      <td>NaN</td>\n",
       "      <td>NaN</td>\n",
       "      <td>NaN</td>\n",
       "      <td>NaN</td>\n",
       "      <td>1508</td>\n",
       "    </tr>\n",
       "    <tr>\n",
       "      <th>ARP8</th>\n",
       "      <td>1907.0</td>\n",
       "      <td>NaN</td>\n",
       "      <td>NaN</td>\n",
       "      <td>NaN</td>\n",
       "      <td>NaN</td>\n",
       "      <td>NaN</td>\n",
       "      <td>NaN</td>\n",
       "      <td>14471.0</td>\n",
       "      <td>NaN</td>\n",
       "      <td>NaN</td>\n",
       "      <td>NaN</td>\n",
       "      <td>NaN</td>\n",
       "      <td>NaN</td>\n",
       "      <td>NaN</td>\n",
       "      <td>16378</td>\n",
       "    </tr>\n",
       "    <tr>\n",
       "      <th>ARP9</th>\n",
       "      <td>3733.0</td>\n",
       "      <td>NaN</td>\n",
       "      <td>NaN</td>\n",
       "      <td>NaN</td>\n",
       "      <td>NaN</td>\n",
       "      <td>NaN</td>\n",
       "      <td>NaN</td>\n",
       "      <td>2514.0</td>\n",
       "      <td>NaN</td>\n",
       "      <td>NaN</td>\n",
       "      <td>NaN</td>\n",
       "      <td>NaN</td>\n",
       "      <td>NaN</td>\n",
       "      <td>NaN</td>\n",
       "      <td>6247</td>\n",
       "    </tr>\n",
       "    <tr>\n",
       "      <th>All</th>\n",
       "      <td>149650.0</td>\n",
       "      <td>1707.0</td>\n",
       "      <td>2371.0</td>\n",
       "      <td>2052.0</td>\n",
       "      <td>910.0</td>\n",
       "      <td>6652.0</td>\n",
       "      <td>59019.0</td>\n",
       "      <td>191866.0</td>\n",
       "      <td>16075.0</td>\n",
       "      <td>7721.0</td>\n",
       "      <td>16692.0</td>\n",
       "      <td>1504.0</td>\n",
       "      <td>16406.0</td>\n",
       "      <td>6248.0</td>\n",
       "      <td>478873</td>\n",
       "    </tr>\n",
       "  </tbody>\n",
       "</table>\n",
       "</div>"
      ],
      "text/plain": [
       "         number                                                            \\\n",
       "ODP        ARP1   ARP11   ARP12   ARP13  ARP14   ARP15     ARP2      ARP3   \n",
       "ARP                                                                         \n",
       "ARP1        NaN  1707.0  1768.0     NaN    NaN     NaN  25040.0  109424.0   \n",
       "ARP11    1703.0     NaN     NaN     NaN    NaN     NaN      NaN       NaN   \n",
       "ARP12    1766.0     NaN     NaN     NaN    NaN     NaN      NaN     602.0   \n",
       "ARP13       NaN     NaN     NaN     NaN    NaN     NaN      NaN    2049.0   \n",
       "ARP14       NaN     NaN     NaN     NaN    NaN     NaN      NaN     910.0   \n",
       "ARP15       NaN     NaN     NaN     NaN    NaN     NaN   4909.0       NaN   \n",
       "ARP2    25955.0     NaN     NaN     NaN    NaN  4907.0      NaN   28158.0   \n",
       "ARP3   108180.0     NaN   603.0  2052.0  910.0     NaN  29070.0       NaN   \n",
       "ARP4      396.0     NaN     NaN     NaN    NaN  1745.0      NaN   13916.0   \n",
       "ARP5     6010.0     NaN     NaN     NaN    NaN     NaN      NaN    1608.0   \n",
       "ARP6        NaN     NaN     NaN     NaN    NaN     NaN      NaN   16706.0   \n",
       "ARP7        NaN     NaN     NaN     NaN    NaN     NaN      NaN    1508.0   \n",
       "ARP8     1907.0     NaN     NaN     NaN    NaN     NaN      NaN   14471.0   \n",
       "ARP9     3733.0     NaN     NaN     NaN    NaN     NaN      NaN    2514.0   \n",
       "All    149650.0  1707.0  2371.0  2052.0  910.0  6652.0  59019.0  191866.0   \n",
       "\n",
       "                                                                  \n",
       "ODP       ARP4    ARP5     ARP6    ARP7     ARP8    ARP9     All  \n",
       "ARP                                                               \n",
       "ARP1     392.0  6013.0      NaN     NaN   1911.0  3733.0  149988  \n",
       "ARP11      NaN     NaN      NaN     NaN      NaN     NaN    1703  \n",
       "ARP12      NaN     NaN      NaN     NaN      NaN     NaN    2368  \n",
       "ARP13      NaN     NaN      NaN     NaN      NaN     NaN    2049  \n",
       "ARP14      NaN     NaN      NaN     NaN      NaN     NaN     910  \n",
       "ARP15   1750.0     NaN      NaN     NaN      NaN     NaN    6659  \n",
       "ARP2       NaN     NaN      NaN     NaN      NaN     NaN   59020  \n",
       "ARP3   13933.0  1708.0  16692.0  1504.0  14495.0  2515.0  191662  \n",
       "ARP4       NaN     NaN      NaN     NaN      NaN     NaN   16057  \n",
       "ARP5       NaN     NaN      NaN     NaN      NaN     NaN    7618  \n",
       "ARP6       NaN     NaN      NaN     NaN      NaN     NaN   16706  \n",
       "ARP7       NaN     NaN      NaN     NaN      NaN     NaN    1508  \n",
       "ARP8       NaN     NaN      NaN     NaN      NaN     NaN   16378  \n",
       "ARP9       NaN     NaN      NaN     NaN      NaN     NaN    6247  \n",
       "All    16075.0  7721.0  16692.0  1504.0  16406.0  6248.0  478873  "
      ]
     },
     "execution_count": 23,
     "metadata": {},
     "output_type": "execute_result"
    }
   ],
   "source": [
    "#아래의 표와 링크(한국 공항 공사 항공 동계 페이지) \n",
    "#http://www.airport.co.kr/www/extra/stats/domesticLineStats/layOut.do?cid=2015102917520018116&menuId=403 \n",
    "#를 비교하여 해당 공항 확인\n",
    "B = df[df['AOD']=='D']\n",
    "C = B.loc[:,['ARP','ODP']]\n",
    "C['number']=1 \n",
    "C.pivot_table(index = 'ARP', columns = 'ODP', aggfunc = np.sum, margins = True)\n",
    "#공항 매칭 (ARP1:김포,ARP2:김해,ARP3:제주,ARP4:대구,ARP5:울산,ARP6:청주,ARP7:무안,\n",
    "#ARP8:광주,ARP9:여수,ARP10:양양,ARP11:포항,ARP12:사천,ARP13:군산,ARP14:원주,ARP15:인천)"
   ]
  },
  {
   "cell_type": "code",
   "execution_count": 24,
   "metadata": {},
   "outputs": [
    {
     "name": "stderr",
     "output_type": "stream",
     "text": [
      "c:\\anaconda3\\lib\\site-packages\\ipykernel_launcher.py:4: SettingWithCopyWarning: \n",
      "A value is trying to be set on a copy of a slice from a DataFrame.\n",
      "Try using .loc[row_indexer,col_indexer] = value instead\n",
      "\n",
      "See the caveats in the documentation: http://pandas.pydata.org/pandas-docs/stable/indexing.html#indexing-view-versus-copy\n",
      "  after removing the cwd from sys.path.\n",
      "c:\\anaconda3\\lib\\site-packages\\ipykernel_launcher.py:5: SettingWithCopyWarning: \n",
      "A value is trying to be set on a copy of a slice from a DataFrame.\n",
      "Try using .loc[row_indexer,col_indexer] = value instead\n",
      "\n",
      "See the caveats in the documentation: http://pandas.pydata.org/pandas-docs/stable/indexing.html#indexing-view-versus-copy\n",
      "  \"\"\"\n"
     ]
    }
   ],
   "source": [
    "#AOD(출발,도착)분류하여 출발-도착(ADP) 항로컬럼 묶기\n",
    "df_D = df[df['AOD'] == 'D']\n",
    "df_A = df[df['AOD'] == 'A']\n",
    "df_D['ADP'] = df_D['ARP'] + '-' + df_D['ODP']\n",
    "df_A['ADP'] = df_A['ODP'] + '-' + df_A['ARP']\n",
    "df = pd.concat([df_D,df_A])"
   ]
  },
  {
   "cell_type": "code",
   "execution_count": 25,
   "metadata": {},
   "outputs": [],
   "source": [
    "df = df.reset_index()\n",
    "del df['index']"
   ]
  },
  {
   "cell_type": "code",
   "execution_count": 26,
   "metadata": {},
   "outputs": [
    {
     "data": {
      "text/html": [
       "<div>\n",
       "<style scoped>\n",
       "    .dataframe tbody tr th:only-of-type {\n",
       "        vertical-align: middle;\n",
       "    }\n",
       "\n",
       "    .dataframe tbody tr th {\n",
       "        vertical-align: top;\n",
       "    }\n",
       "\n",
       "    .dataframe thead th {\n",
       "        text-align: right;\n",
       "    }\n",
       "</style>\n",
       "<table border=\"1\" class=\"dataframe\">\n",
       "  <thead>\n",
       "    <tr style=\"text-align: right;\">\n",
       "      <th></th>\n",
       "      <th>DIS</th>\n",
       "      <th>ADP</th>\n",
       "    </tr>\n",
       "  </thead>\n",
       "  <tbody>\n",
       "    <tr>\n",
       "      <th>0</th>\n",
       "      <td>338</td>\n",
       "      <td>ARP15-ARP2</td>\n",
       "    </tr>\n",
       "    <tr>\n",
       "      <th>1</th>\n",
       "      <td>438</td>\n",
       "      <td>ARP15-ARP3</td>\n",
       "    </tr>\n",
       "    <tr>\n",
       "      <th>2</th>\n",
       "      <td>264</td>\n",
       "      <td>ARP15-ARP4</td>\n",
       "    </tr>\n",
       "    <tr>\n",
       "      <th>3</th>\n",
       "      <td>208</td>\n",
       "      <td>ARP15-ARP10</td>\n",
       "    </tr>\n",
       "    <tr>\n",
       "      <th>4</th>\n",
       "      <td>309</td>\n",
       "      <td>ARP15-ARP9</td>\n",
       "    </tr>\n",
       "  </tbody>\n",
       "</table>\n",
       "</div>"
      ],
      "text/plain": [
       "   DIS          ADP\n",
       "0  338   ARP15-ARP2\n",
       "1  438   ARP15-ARP3\n",
       "2  264   ARP15-ARP4\n",
       "3  208  ARP15-ARP10\n",
       "4  309   ARP15-ARP9"
      ]
     },
     "execution_count": 26,
     "metadata": {},
     "output_type": "execute_result"
    }
   ],
   "source": [
    "#구글을 통해 항로별(ADP) 항로거리 검색 후 데이터 프레임 생성\n",
    "ADP = ['ARP15-ARP2','ARP15-ARP3','ARP15-ARP4','ARP15-ARP10','ARP15-ARP9','ARP1-ARP3',\n",
    "      'ARP1-ARP4','ARP1-ARP6','ARP1-ARP8','ARP1-ARP10','ARP1-ARP5','ARP1-ARP12','ARP1-ARP11','ARP1-ARP9','ARP1-ARP14',\n",
    "      'ARP2-ARP4','ARP2-ARP6','ARP2-ARP10','ARP3-ARP4','ARP3-ARP2','ARP3-ARP6','ARP3-ARP8','ARP3-ARP7','ARP3-ARP10'\n",
    "      ,'ARP3-ARP5','ARP3-ARP12','ARP3-ARP11','ARP3-ARP13','ARP3-ARP9','ARP3-ARP14','ARP6-ARP15','ARP6-ARP1','ARP6-ARP1','ARP6-ARP9','ARP7-ARP15','ARP10-ARP8','ARP9-ARP6',\n",
    "      'ARP4-ARP3', 'ARP8-ARP3', 'ARP14-ARP3', 'ARP12-ARP3', 'ARP6-ARP3',\n",
    "       'ARP5-ARP3', 'ARP9-ARP3', 'ARP13-ARP3', 'ARP2-ARP3', 'ARP2-ARP1',\n",
    "       'ARP3-ARP1', 'ARP12-ARP1', 'ARP9-ARP1', 'ARP11-ARP1', 'ARP5-ARP1',\n",
    "       'ARP2-ARP15', 'ARP4-ARP15', 'ARP1-ARP2', 'ARP8-ARP1', 'ARP7-ARP3',\n",
    "       'ARP4-ARP1','ARP10-ARP2','ARP10-ARP3']\n",
    "DIS = [338,438,264,208,309,449,249,113,270,174,317,298,293,311,106,82,214,320,330,291,367,182,164,542,349,227,383,266,180,456,126,113,214,208,275,8365,208,991,183,456,227,368,349,181,266,291,327,452,298,328,293,327,315,244,329,273,165,256,317,542]\n",
    "ADP_DIS = pd.DataFrame(columns = {'ADP','DIS'})\n",
    "ADP_DIS['DIS'] = DIS\n",
    "ADP_DIS['ADP'] = ADP\n",
    "ADP_DIS.head()"
   ]
  },
  {
   "cell_type": "code",
   "execution_count": 27,
   "metadata": {},
   "outputs": [],
   "source": [
    "#데이터와 거리 합치기\n",
    "df = df.merge(ADP_DIS,how = 'left', on = ['ADP'])"
   ]
  },
  {
   "cell_type": "code",
   "execution_count": 28,
   "metadata": {},
   "outputs": [
    {
     "name": "stderr",
     "output_type": "stream",
     "text": [
      "c:\\anaconda3\\lib\\site-packages\\ipykernel_launcher.py:6: SettingWithCopyWarning: \n",
      "A value is trying to be set on a copy of a slice from a DataFrame.\n",
      "Try using .loc[row_indexer,col_indexer] = value instead\n",
      "\n",
      "See the caveats in the documentation: http://pandas.pydata.org/pandas-docs/stable/indexing.html#indexing-view-versus-copy\n",
      "  \n"
     ]
    },
    {
     "data": {
      "image/png": "[encoded data removed]",
      "text/plain": [
       "<Figure size 432x288 with 1 Axes>"
      ]
     },
     "metadata": {
      "needs_background": "light"
     },
     "output_type": "display_data"
    }
   ],
   "source": [
    "#거리(카테고리화)와 지연 횟수 확인(거리에 따라 지연율의 확연한 차이 발견)\n",
    "bins = np.linspace(df.DIS.min(), df.DIS.max(), 20)\n",
    "df['DIS_bin'] = np.digitize(df['DIS'], bins)\n",
    "df1 = df[df['DLY']=='Y']\n",
    "\n",
    "df1['sex'] = 1\n",
    "\n",
    "plt.figure\n",
    "plt.hist(df1['DIS_bin'], bins=10, facecolor = 'red', alpha=0.4, histtype = 'stepfilled')\n",
    "plt.show()\n",
    "del df['DIS_bin'] #생성된 카테고리 컬럼 지우기"
   ]
  },
  {
   "cell_type": "code",
   "execution_count": 29,
   "metadata": {},
   "outputs": [
    {
     "data": {
      "image/png": "[encoded data removed]",
      "text/plain": [
       "<Figure size 432x288 with 1 Axes>"
      ]
     },
     "metadata": {
      "needs_background": "light"
     },
     "output_type": "display_data"
    }
   ],
   "source": [
    "#연도별 지연횟수 확인(2019년의 경우 운행이 아직 끝나지 않아 정확한 파악 불가 따라서 SDT_YY제거)\n",
    "df_Y = df[df['DLY'] == 'Y']\n",
    "YES = df_Y.groupby('SDT_YY').count()\n",
    "counts = pd.value_counts(df['SDT_YY'].values, sort = False)\n",
    "per = YES['SDT_MM']/counts\n",
    "df_per = pd.DataFrame(data = per, columns = ['per'])\n",
    "\n",
    "fig = plt.figure()\n",
    "ax = plt.subplot(1, 1, 1)\n",
    "plt.title('Year')\n",
    "ax.plot(df_per['per'])\n",
    "\n",
    "\n",
    "for label in ax.xaxis.get_ticklabels() :\n",
    "    label.set_rotation(45)"
   ]
  },
  {
   "cell_type": "code",
   "execution_count": 30,
   "metadata": {},
   "outputs": [
    {
     "data": {
      "image/png": "[encoded data removed]",
      "text/plain": [
       "<Figure size 432x288 with 1 Axes>"
      ]
     },
     "metadata": {
      "needs_background": "light"
     },
     "output_type": "display_data"
    }
   ],
   "source": [
    "#월별 지연율 확인결과 확연한 차이 발견(독립변수 사용)\n",
    "df_Y = df[df['DLY'] == 'Y']\n",
    "YES = df_Y.groupby('SDT_MM').count()\n",
    "counts = pd.value_counts(df['SDT_MM'].values, sort = False)\n",
    "per = YES['SDT_YY']/counts\n",
    "df_per = pd.DataFrame(data = per, columns = ['per'])\n",
    "\n",
    "fig = plt.figure()\n",
    "ax = plt.subplot(1, 1, 1)\n",
    "plt.title('Year')\n",
    "ax.plot(df_per['per'])\n",
    "\n",
    "\n",
    "for label in ax.xaxis.get_ticklabels() :\n",
    "    label.set_rotation(45)"
   ]
  },
  {
   "cell_type": "code",
   "execution_count": 31,
   "metadata": {},
   "outputs": [
    {
     "data": {
      "image/png": "[encoded data removed]",
      "text/plain": [
       "<Figure size 432x288 with 1 Axes>"
      ]
     },
     "metadata": {
      "needs_background": "light"
     },
     "output_type": "display_data"
    }
   ],
   "source": [
    "#일별 지연율 확인결과 확연한 차이 발견(독립변수 사용)\n",
    "df_Y = df[df['DLY'] == 'Y']\n",
    "YES = df_Y.groupby('SDT_DD').count()\n",
    "counts = pd.value_counts(df['SDT_DD'].values, sort = False)\n",
    "per = YES['SDT_YY']/counts\n",
    "df_per = pd.DataFrame(data = per, columns = ['per'])\n",
    "\n",
    "fig = plt.figure()\n",
    "ax = plt.subplot(1, 1, 1)\n",
    "plt.title('Year')\n",
    "ax.plot(df_per['per'])\n",
    "\n",
    "\n",
    "for label in ax.xaxis.get_ticklabels() :\n",
    "    label.set_rotation(45)"
   ]
  },
  {
   "cell_type": "code",
   "execution_count": 32,
   "metadata": {},
   "outputs": [
    {
     "data": {
      "image/png": "[encoded data removed]",
      "text/plain": [
       "<Figure size 432x288 with 1 Axes>"
      ]
     },
     "metadata": {
      "needs_background": "light"
     },
     "output_type": "display_data"
    }
   ],
   "source": [
    "#요일별 지연율 확인결과 확연한 차이 발견(독립변수 사용)\n",
    "df_Y = df[df['DLY'] == 'Y']\n",
    "YES = df_Y.groupby('SDT_DY').count()\n",
    "counts = pd.value_counts(df['SDT_DY'].values, sort = False)\n",
    "per = YES['SDT_YY']/counts\n",
    "df_per = pd.DataFrame(data = per, columns = ['per'])\n",
    "\n",
    "fig = plt.figure()\n",
    "ax = plt.subplot(1, 1, 1)\n",
    "plt.title('Year')\n",
    "ax.plot(df_per['per'])\n",
    "\n",
    "\n",
    "for label in ax.xaxis.get_ticklabels() :\n",
    "    label.set_rotation(45)"
   ]
  },
  {
   "cell_type": "markdown",
   "metadata": {},
   "source": [
    "# 데이터 샘플링"
   ]
  },
  {
   "cell_type": "code",
   "execution_count": 33,
   "metadata": {},
   "outputs": [
    {
     "name": "stdout",
     "output_type": "stream",
     "text": [
      "N    824576\n",
      "Y    115687\n",
      "Name: DLY, dtype: int64\n"
     ]
    }
   ],
   "source": [
    "#DLY데이터 편중 확인 및 샘플링\n",
    "print(df['DLY'].value_counts())\n",
    "df_Y = df[df['DLY'] == 'Y']\n",
    "df_N = df[df['DLY'] == 'N']\n",
    "df_N_sample = df_N.sample(frac = (len(df_Y)/len(df_N)) * (6/4)) #N과 Y 6대4샘플링\n",
    "df = pd.concat([df_N_sample,df_Y])"
   ]
  },
  {
   "cell_type": "code",
   "execution_count": 34,
   "metadata": {},
   "outputs": [
    {
     "name": "stdout",
     "output_type": "stream",
     "text": [
      "N    173530\n",
      "Y    115687\n",
      "Name: DLY, dtype: int64\n"
     ]
    }
   ],
   "source": [
    "print(df['DLY'].value_counts())\n",
    "df = df.reset_index()\n",
    "del df['index']"
   ]
  },
  {
   "cell_type": "markdown",
   "metadata": {},
   "source": [
    "# 불필요 컬럼 제거"
   ]
  },
  {
   "cell_type": "code",
   "execution_count": 35,
   "metadata": {},
   "outputs": [],
   "source": [
    "df.drop(['SDT_YY','REG','STT','ATT','DRR','ADP'],axis = 1, inplace = True)"
   ]
  },
  {
   "cell_type": "code",
   "execution_count": 36,
   "metadata": {},
   "outputs": [
    {
     "data": {
      "text/html": [
       "<div>\n",
       "<style scoped>\n",
       "    .dataframe tbody tr th:only-of-type {\n",
       "        vertical-align: middle;\n",
       "    }\n",
       "\n",
       "    .dataframe tbody tr th {\n",
       "        vertical-align: top;\n",
       "    }\n",
       "\n",
       "    .dataframe thead th {\n",
       "        text-align: right;\n",
       "    }\n",
       "</style>\n",
       "<table border=\"1\" class=\"dataframe\">\n",
       "  <thead>\n",
       "    <tr style=\"text-align: right;\">\n",
       "      <th></th>\n",
       "      <th>SDT_MM</th>\n",
       "      <th>SDT_DD</th>\n",
       "      <th>SDT_DY</th>\n",
       "      <th>ARP</th>\n",
       "      <th>ODP</th>\n",
       "      <th>FLO</th>\n",
       "      <th>FLT</th>\n",
       "      <th>AOD</th>\n",
       "      <th>DLY</th>\n",
       "      <th>STT_HOUR</th>\n",
       "      <th>DIS</th>\n",
       "    </tr>\n",
       "  </thead>\n",
       "  <tbody>\n",
       "    <tr>\n",
       "      <th>0</th>\n",
       "      <td>9</td>\n",
       "      <td>23</td>\n",
       "      <td>토</td>\n",
       "      <td>ARP8</td>\n",
       "      <td>ARP3</td>\n",
       "      <td>J</td>\n",
       "      <td>J1905</td>\n",
       "      <td>A</td>\n",
       "      <td>N</td>\n",
       "      <td>9</td>\n",
       "      <td>182</td>\n",
       "    </tr>\n",
       "    <tr>\n",
       "      <th>1</th>\n",
       "      <td>4</td>\n",
       "      <td>26</td>\n",
       "      <td>수</td>\n",
       "      <td>ARP15</td>\n",
       "      <td>ARP2</td>\n",
       "      <td>A</td>\n",
       "      <td>A1531</td>\n",
       "      <td>D</td>\n",
       "      <td>N</td>\n",
       "      <td>21</td>\n",
       "      <td>338</td>\n",
       "    </tr>\n",
       "    <tr>\n",
       "      <th>2</th>\n",
       "      <td>2</td>\n",
       "      <td>15</td>\n",
       "      <td>목</td>\n",
       "      <td>ARP1</td>\n",
       "      <td>ARP3</td>\n",
       "      <td>I</td>\n",
       "      <td>I1316</td>\n",
       "      <td>A</td>\n",
       "      <td>N</td>\n",
       "      <td>15</td>\n",
       "      <td>452</td>\n",
       "    </tr>\n",
       "    <tr>\n",
       "      <th>3</th>\n",
       "      <td>9</td>\n",
       "      <td>12</td>\n",
       "      <td>화</td>\n",
       "      <td>ARP1</td>\n",
       "      <td>ARP3</td>\n",
       "      <td>F</td>\n",
       "      <td>F1251</td>\n",
       "      <td>D</td>\n",
       "      <td>N</td>\n",
       "      <td>6</td>\n",
       "      <td>449</td>\n",
       "    </tr>\n",
       "    <tr>\n",
       "      <th>4</th>\n",
       "      <td>3</td>\n",
       "      <td>12</td>\n",
       "      <td>일</td>\n",
       "      <td>ARP2</td>\n",
       "      <td>ARP1</td>\n",
       "      <td>B</td>\n",
       "      <td>B1812</td>\n",
       "      <td>D</td>\n",
       "      <td>N</td>\n",
       "      <td>13</td>\n",
       "      <td>327</td>\n",
       "    </tr>\n",
       "  </tbody>\n",
       "</table>\n",
       "</div>"
      ],
      "text/plain": [
       "   SDT_MM  SDT_DD SDT_DY    ARP   ODP FLO    FLT AOD DLY  STT_HOUR  DIS\n",
       "0       9      23      토   ARP8  ARP3   J  J1905   A   N         9  182\n",
       "1       4      26      수  ARP15  ARP2   A  A1531   D   N        21  338\n",
       "2       2      15      목   ARP1  ARP3   I  I1316   A   N        15  452\n",
       "3       9      12      화   ARP1  ARP3   F  F1251   D   N         6  449\n",
       "4       3      12      일   ARP2  ARP1   B  B1812   D   N        13  327"
      ]
     },
     "execution_count": 36,
     "metadata": {},
     "output_type": "execute_result"
    }
   ],
   "source": [
    "df.head()"
   ]
  },
  {
   "cell_type": "markdown",
   "metadata": {},
   "source": [
    "# 데이터 type 변환"
   ]
  },
  {
   "cell_type": "code",
   "execution_count": 37,
   "metadata": {},
   "outputs": [],
   "source": [
    "df_model = df.copy()\n",
    "from sklearn.preprocessing import LabelEncoder\n",
    "for col in df_model.columns:\n",
    "    if df_model[col].dtype == 'object':\n",
    "        le = LabelEncoder()\n",
    "        df_model[col] = le.fit_transform(df_model[col])"
   ]
  },
  {
   "cell_type": "markdown",
   "metadata": {},
   "source": [
    "# 모델(lightGBM) 생성 및 평가"
   ]
  },
  {
   "cell_type": "code",
   "execution_count": 38,
   "metadata": {},
   "outputs": [],
   "source": [
    "#테스트_트레인 셑 설정\n",
    "X = df_model.drop(['DLY'],1)\n",
    "y = df_model['DLY']\n",
    "predictions = np.zeros(len(y))\n",
    "from sklearn.model_selection import train_test_split\n",
    "X_train, X_test, y_train, y_test = train_test_split(X, y, test_size=0.2)\n"
   ]
  },
  {
   "cell_type": "code",
   "execution_count": 39,
   "metadata": {},
   "outputs": [],
   "source": [
    "#모델 생성 및 학습\n",
    "import lightgbm as lgb\n",
    "Lgb = lgb.LGBMClassifier(n_estimators=1300, \n",
    "                         silent=True, \n",
    "                         random_state =10, \n",
    "                         max_depth=15,\n",
    "                         num_leaves=500,\n",
    "                         learning_rate = 0.1,\n",
    "                         objective='binary',\n",
    "                         metrics ='auc')\n",
    "model = Lgb.fit(X_train, y_train)"
   ]
  },
  {
   "cell_type": "code",
   "execution_count": 40,
   "metadata": {},
   "outputs": [
    {
     "name": "stdout",
     "output_type": "stream",
     "text": [
      "roc_auc_score: 0.7527141808399812\n",
      "accuracy_score: 0.7672705898623885\n"
     ]
    }
   ],
   "source": [
    "#test를 통한 모델 검증\n",
    "predictions = model.predict(X_test)\n",
    "proba = model.predict_proba(X_test)\n",
    "from sklearn.metrics import accuracy_score, roc_auc_score\n",
    "score = roc_auc_score(y_test, predictions)\n",
    "score2 = accuracy_score(y_test, predictions)\n",
    "print('roc_auc_score:',score)\n",
    "print('accuracy_score:',score2)"
   ]
  },
  {
   "cell_type": "markdown",
   "metadata": {},
   "source": [
    "# 데이터 예측하기"
   ]
  },
  {
   "cell_type": "code",
   "execution_count": 41,
   "metadata": {},
   "outputs": [
    {
     "data": {
      "text/html": [
       "<div>\n",
       "<style scoped>\n",
       "    .dataframe tbody tr th:only-of-type {\n",
       "        vertical-align: middle;\n",
       "    }\n",
       "\n",
       "    .dataframe tbody tr th {\n",
       "        vertical-align: top;\n",
       "    }\n",
       "\n",
       "    .dataframe thead th {\n",
       "        text-align: right;\n",
       "    }\n",
       "</style>\n",
       "<table border=\"1\" class=\"dataframe\">\n",
       "  <thead>\n",
       "    <tr style=\"text-align: right;\">\n",
       "      <th></th>\n",
       "      <th>SDT_MM</th>\n",
       "      <th>SDT_DD</th>\n",
       "      <th>SDT_DY</th>\n",
       "      <th>ARP</th>\n",
       "      <th>ODP</th>\n",
       "      <th>FLO</th>\n",
       "      <th>FLT</th>\n",
       "      <th>AOD</th>\n",
       "      <th>DLY</th>\n",
       "      <th>STT_HOUR</th>\n",
       "      <th>DIS</th>\n",
       "    </tr>\n",
       "  </thead>\n",
       "  <tbody>\n",
       "    <tr>\n",
       "      <th>0</th>\n",
       "      <td>9</td>\n",
       "      <td>23</td>\n",
       "      <td>토</td>\n",
       "      <td>ARP8</td>\n",
       "      <td>ARP3</td>\n",
       "      <td>J</td>\n",
       "      <td>J1905</td>\n",
       "      <td>A</td>\n",
       "      <td>N</td>\n",
       "      <td>9</td>\n",
       "      <td>182</td>\n",
       "    </tr>\n",
       "    <tr>\n",
       "      <th>1</th>\n",
       "      <td>4</td>\n",
       "      <td>26</td>\n",
       "      <td>수</td>\n",
       "      <td>ARP15</td>\n",
       "      <td>ARP2</td>\n",
       "      <td>A</td>\n",
       "      <td>A1531</td>\n",
       "      <td>D</td>\n",
       "      <td>N</td>\n",
       "      <td>21</td>\n",
       "      <td>338</td>\n",
       "    </tr>\n",
       "    <tr>\n",
       "      <th>2</th>\n",
       "      <td>2</td>\n",
       "      <td>15</td>\n",
       "      <td>목</td>\n",
       "      <td>ARP1</td>\n",
       "      <td>ARP3</td>\n",
       "      <td>I</td>\n",
       "      <td>I1316</td>\n",
       "      <td>A</td>\n",
       "      <td>N</td>\n",
       "      <td>15</td>\n",
       "      <td>452</td>\n",
       "    </tr>\n",
       "    <tr>\n",
       "      <th>3</th>\n",
       "      <td>9</td>\n",
       "      <td>12</td>\n",
       "      <td>화</td>\n",
       "      <td>ARP1</td>\n",
       "      <td>ARP3</td>\n",
       "      <td>F</td>\n",
       "      <td>F1251</td>\n",
       "      <td>D</td>\n",
       "      <td>N</td>\n",
       "      <td>6</td>\n",
       "      <td>449</td>\n",
       "    </tr>\n",
       "    <tr>\n",
       "      <th>4</th>\n",
       "      <td>3</td>\n",
       "      <td>12</td>\n",
       "      <td>일</td>\n",
       "      <td>ARP2</td>\n",
       "      <td>ARP1</td>\n",
       "      <td>B</td>\n",
       "      <td>B1812</td>\n",
       "      <td>D</td>\n",
       "      <td>N</td>\n",
       "      <td>13</td>\n",
       "      <td>327</td>\n",
       "    </tr>\n",
       "  </tbody>\n",
       "</table>\n",
       "</div>"
      ],
      "text/plain": [
       "   SDT_MM  SDT_DD SDT_DY    ARP   ODP FLO    FLT AOD DLY  STT_HOUR  DIS\n",
       "0       9      23      토   ARP8  ARP3   J  J1905   A   N         9  182\n",
       "1       4      26      수  ARP15  ARP2   A  A1531   D   N        21  338\n",
       "2       2      15      목   ARP1  ARP3   I  I1316   A   N        15  452\n",
       "3       9      12      화   ARP1  ARP3   F  F1251   D   N         6  449\n",
       "4       3      12      일   ARP2  ARP1   B  B1812   D   N        13  327"
      ]
     },
     "execution_count": 41,
     "metadata": {},
     "output_type": "execute_result"
    }
   ],
   "source": [
    "df.head()"
   ]
  },
  {
   "cell_type": "code",
   "execution_count": 42,
   "metadata": {},
   "outputs": [],
   "source": [
    "#컬럼 맞추기\n",
    "df_predict = pd.read_csv('AFSNT_DLY.csv', encoding = 'cp949')"
   ]
  },
  {
   "cell_type": "code",
   "execution_count": 43,
   "metadata": {},
   "outputs": [],
   "source": [
    "#오타수정\n",
    "df_predict.iloc[2,4] = 'ARP1'"
   ]
  },
  {
   "cell_type": "code",
   "execution_count": 44,
   "metadata": {},
   "outputs": [
    {
     "name": "stderr",
     "output_type": "stream",
     "text": [
      "c:\\anaconda3\\lib\\site-packages\\ipykernel_launcher.py:3: SettingWithCopyWarning: \n",
      "A value is trying to be set on a copy of a slice from a DataFrame.\n",
      "Try using .loc[row_indexer,col_indexer] = value instead\n",
      "\n",
      "See the caveats in the documentation: http://pandas.pydata.org/pandas-docs/stable/indexing.html#indexing-view-versus-copy\n",
      "  This is separate from the ipykernel package so we can avoid doing imports until\n",
      "c:\\anaconda3\\lib\\site-packages\\ipykernel_launcher.py:10: SettingWithCopyWarning: \n",
      "A value is trying to be set on a copy of a slice from a DataFrame.\n",
      "Try using .loc[row_indexer,col_indexer] = value instead\n",
      "\n",
      "See the caveats in the documentation: http://pandas.pydata.org/pandas-docs/stable/indexing.html#indexing-view-versus-copy\n",
      "  # Remove the CWD from sys.path while we load stuff.\n"
     ]
    }
   ],
   "source": [
    "df_DN = df_predict[df_predict['AOD'] == 'D']\n",
    "\n",
    "df_DN['ADP'] = df_DN['ARP']+'-'+df_DN['ODP']\n",
    "\n",
    "df_D_DN = df_DN.merge(ADP_DIS,how = 'left', on = ['ADP'])\n",
    "\n",
    "\n",
    "df_AN = df_predict[df_predict['AOD'] == 'A']\n",
    "\n",
    "df_AN['ADP'] = df_AN['ODP']+'-'+df_AN['ARP']\n",
    "\n",
    "df_A_AN = df_AN.merge(ADP_DIS,how = 'left',on = ['ADP'])\n",
    "\n",
    "dfN = pd.concat([df_D_DN,df_A_AN])"
   ]
  },
  {
   "cell_type": "code",
   "execution_count": 45,
   "metadata": {},
   "outputs": [],
   "source": [
    "dfN['STT_HOUR'] = dfN['STT'].str[0:2]\n",
    "dfN['STT_HOUR'] = dfN['STT_HOUR'].str.replace(':','')\n",
    "dfN['STT_HOUR'] = dfN['STT_HOUR'].astype(int)\n",
    "dfN.drop(['SDT_YY','STT','DLY_RATE','ADP'],1,inplace = True)\n",
    "dfN = dfN.reset_index()\n",
    "del dfN['index']"
   ]
  },
  {
   "cell_type": "code",
   "execution_count": 46,
   "metadata": {},
   "outputs": [
    {
     "name": "stderr",
     "output_type": "stream",
     "text": [
      "c:\\anaconda3\\lib\\site-packages\\ipykernel_launcher.py:1: FutureWarning: Sorting because non-concatenation axis is not aligned. A future version\n",
      "of pandas will change to not sort by default.\n",
      "\n",
      "To accept the future behavior, pass 'sort=False'.\n",
      "\n",
      "To retain the current behavior and silence the warning, pass 'sort=True'.\n",
      "\n",
      "  \"\"\"Entry point for launching an IPython kernel.\n"
     ]
    }
   ],
   "source": [
    "df_final = pd.concat([df,dfN])\n",
    "df_final['DLY'].fillna('Y',inplace = True)\n",
    "df_final = df_final.reset_index()\n",
    "del df_final['index']"
   ]
  },
  {
   "cell_type": "code",
   "execution_count": 47,
   "metadata": {},
   "outputs": [
    {
     "name": "stderr",
     "output_type": "stream",
     "text": [
      "c:\\anaconda3\\lib\\site-packages\\lightgbm\\engine.py:118: UserWarning: Found `num_iterations` in params. Will use it instead of argument\n",
      "  warnings.warn(\"Found `{}` in params. Will use it instead of argument\".format(alias))\n"
     ]
    }
   ],
   "source": [
    "from sklearn.preprocessing import LabelEncoder\n",
    "for col in df_final.columns:\n",
    "    if df_final[col].dtype == 'object':\n",
    "        le = LabelEncoder()\n",
    "        df_final[col] = le.fit_transform(df_final[col])\n",
    "\n",
    "predictions = np.zeros(len(y))\n",
    "\n",
    "import lightgbm as lgb\n",
    "Lgb = lgb.LGBMClassifier(n_estimators=1300, \n",
    "                         silent=True, \n",
    "                         random_state =10, \n",
    "                         max_depth=15,\n",
    "                         num_leaves=500,\n",
    "                         learning_rate = 0.1,\n",
    "                         num_iterations = 1000,\n",
    "                         objective='binary',\n",
    "                         metrics ='auc')\n",
    "\n",
    "\n",
    "model = Lgb.fit(df_final.drop(['DLY'],1).iloc[:len(df)], df_final['DLY'].iloc[:len(df)])\n",
    "predictions = model.predict(df_final.drop(['DLY'],1).iloc[len(df):])\n",
    "proba = model.predict_proba(df_final.drop(['DLY'],1).iloc[len(df):])\n",
    "\n"
   ]
  },
  {
   "cell_type": "code",
   "execution_count": 48,
   "metadata": {},
   "outputs": [
    {
     "data": {
      "text/plain": [
       "16076"
      ]
     },
     "execution_count": 48,
     "metadata": {},
     "output_type": "execute_result"
    }
   ],
   "source": [
    "len(predictions)"
   ]
  },
  {
   "cell_type": "code",
   "execution_count": 49,
   "metadata": {},
   "outputs": [
    {
     "data": {
      "text/plain": [
       "16076"
      ]
     },
     "execution_count": 49,
     "metadata": {},
     "output_type": "execute_result"
    }
   ],
   "source": [
    "len(proba)"
   ]
  },
  {
   "cell_type": "markdown",
   "metadata": {},
   "source": [
    "# 예측파일 원본 에 저장"
   ]
  },
  {
   "cell_type": "code",
   "execution_count": 100,
   "metadata": {},
   "outputs": [],
   "source": [
    "list_predict = predictions.astype(list)\n",
    "df_proba = pd.DataFrame(proba)"
   ]
  },
  {
   "cell_type": "code",
   "execution_count": 101,
   "metadata": {},
   "outputs": [
    {
     "data": {
      "text/html": [
       "<div>\n",
       "<style scoped>\n",
       "    .dataframe tbody tr th:only-of-type {\n",
       "        vertical-align: middle;\n",
       "    }\n",
       "\n",
       "    .dataframe tbody tr th {\n",
       "        vertical-align: top;\n",
       "    }\n",
       "\n",
       "    .dataframe thead th {\n",
       "        text-align: right;\n",
       "    }\n",
       "</style>\n",
       "<table border=\"1\" class=\"dataframe\">\n",
       "  <thead>\n",
       "    <tr style=\"text-align: right;\">\n",
       "      <th></th>\n",
       "      <th>0</th>\n",
       "      <th>1</th>\n",
       "    </tr>\n",
       "  </thead>\n",
       "  <tbody>\n",
       "    <tr>\n",
       "      <th>0</th>\n",
       "      <td>0.811417</td>\n",
       "      <td>0.188583</td>\n",
       "    </tr>\n",
       "    <tr>\n",
       "      <th>1</th>\n",
       "      <td>0.127007</td>\n",
       "      <td>0.872993</td>\n",
       "    </tr>\n",
       "    <tr>\n",
       "      <th>2</th>\n",
       "      <td>0.607220</td>\n",
       "      <td>0.392780</td>\n",
       "    </tr>\n",
       "    <tr>\n",
       "      <th>3</th>\n",
       "      <td>0.925170</td>\n",
       "      <td>0.074830</td>\n",
       "    </tr>\n",
       "    <tr>\n",
       "      <th>4</th>\n",
       "      <td>0.972635</td>\n",
       "      <td>0.027365</td>\n",
       "    </tr>\n",
       "  </tbody>\n",
       "</table>\n",
       "</div>"
      ],
      "text/plain": [
       "          0         1\n",
       "0  0.811417  0.188583\n",
       "1  0.127007  0.872993\n",
       "2  0.607220  0.392780\n",
       "3  0.925170  0.074830\n",
       "4  0.972635  0.027365"
      ]
     },
     "execution_count": 101,
     "metadata": {},
     "output_type": "execute_result"
    }
   ],
   "source": [
    "df_proba.head()"
   ]
  },
  {
   "cell_type": "code",
   "execution_count": 102,
   "metadata": {},
   "outputs": [],
   "source": [
    "df_predict_output = pd.read_csv('AFSNT_DLY.csv',encoding = 'cp949')"
   ]
  },
  {
   "cell_type": "code",
   "execution_count": 103,
   "metadata": {},
   "outputs": [],
   "source": [
    "df_predict_output['DLY'] = list_predict\n",
    "df_predict_output['DLY_RATE'] = df_proba.iloc[:,1]"
   ]
  },
  {
   "cell_type": "code",
   "execution_count": 105,
   "metadata": {},
   "outputs": [],
   "source": [
    "#제출형식맞추기\n",
    "df_predict_output['DLY']=df_predict_output['DLY'].astype(str)\n",
    "df_predict_output['DLY']=df_predict_output['DLY'].str.replace('0','N')\n",
    "df_predict_output['DLY']=df_predict_output['DLY'].str.replace('1','Y')\n",
    "df_predict_output['DLY_RATE'] = df_predict_output.round({'DLY_RATE':3})['DLY_RATE']\n"
   ]
  },
  {
   "cell_type": "code",
   "execution_count": 114,
   "metadata": {},
   "outputs": [],
   "source": [
    "#결과값 저장\n",
    "df_predict_output.to_csv('AFSNT_DLY_predict.csv',encoding = 'cp949')"
   ]
  }
 ],
 "metadata": {
  "kernelspec": {
   "display_name": "Python 3",
   "language": "python",
   "name": "python3"
  },
  "language_info": {
   "codemirror_mode": {
    "name": "ipython",
    "version": 3
   },
   "file_extension": ".py",
   "mimetype": "text/x-python",
   "name": "python",
   "nbconvert_exporter": "python",
   "pygments_lexer": "ipython3",
   "version": "3.6.8"
  }
 },
 "nbformat": 4,
 "nbformat_minor": 2
}
